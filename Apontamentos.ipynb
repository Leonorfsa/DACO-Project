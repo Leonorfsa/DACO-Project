{
 "cells": [
  {
   "cell_type": "markdown",
   "metadata": {},
   "source": [
    "Interessante para guardar numa variável as 3 imagens dos 3 eixos (aula PL3):"
   ]
  },
  {
   "cell_type": "code",
   "execution_count": null,
   "metadata": {},
   "outputs": [],
   "source": [
    "import imageio\n",
    "import numpy as np\n",
    "from matplotlib import pyplot as plt\n",
    "\n",
    "ims = ['1.tif','64.tif','19.tif','85.tif']\n",
    "\n",
    "images = []\n",
    "labels = np.array([0,1,2,3])\n",
    "\n",
    "for im in ims:\n",
    "    images.extend(np.expand_dims(imageio.imread(im),axis=0))\n",
    "\n",
    "\n",
    "images = np.array(images,dtype=np.uint8)\n",
    "images = images/255.\n",
    "print(images.shape)\n",
    "\n",
    "\n",
    "for im in images:\n",
    "    plt.figure()\n",
    "    plt.imshow(im)"
   ]
  },
  {
   "cell_type": "markdown",
   "metadata": {},
   "source": [
    "Normalize data:"
   ]
  },
  {
   "cell_type": "code",
   "execution_count": null,
   "metadata": {},
   "outputs": [],
   "source": [
    "normalized_train = (x_train - np.mean(x_train,axis= 0)) / (np.std(x_train, axis = 0))"
   ]
  },
  {
   "cell_type": "markdown",
   "metadata": {},
   "source": [
    "Separar train, validation e test (aula PL3):"
   ]
  },
  {
   "cell_type": "code",
   "execution_count": null,
   "metadata": {},
   "outputs": [],
   "source": [
    "df = pd.read_csv('https://archive.ics.uci.edu/ml/machine-learning-databases/arrhythmia/arrhythmia.data',header=None)\n",
    "\n",
    "#df.describe() allows to visualize a summary of the data\n",
    "dataset = np.asarray(df)\n",
    "#print(df.describe())\n",
    "\n",
    "dataset[dataset == '?'] = 0 \n",
    "dataset = np.asarray(dataset,dtype=np.float64)\n",
    "data = dataset[:,:-1]\n",
    "data = data[:,[0,1,2,3,4,5]]\n",
    "labels = dataset[:,-1] #last column: labels\n",
    "x_train, X_test, y_train, Y_test = train_test_split(data, labels, test_size = 0.3, random_state=42)\n",
    "x_test, x_val, y_test, y_val = train_test_split(X_test, Y_test, test_size=0.5, random_state=42)"
   ]
  }
 ],
 "metadata": {
  "kernelspec": {
   "display_name": "Python 3",
   "language": "python",
   "name": "python3"
  }
 },
 "nbformat": 4,
 "nbformat_minor": 2
}
